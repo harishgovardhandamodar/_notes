{
 "cells": [
  {
   "cell_type": "markdown",
   "id": "84078e98",
   "metadata": {},
   "source": [
    "# Privacy-preserving logistic regression training"
   ]
  },
  {
   "cell_type": "markdown",
   "id": "19380c71",
   "metadata": {},
   "source": [
    "Abstract\n",
    "\n",
    "Background: Logistic regression is a popular technique used in machine learning to construct classification models.\n",
    "Since the construction of such models is based on computing with large datasets, it is an appealing idea to outsource\n",
    "this computation to a cloud service. The privacy-sensitive nature of the input data requires appropriate privacy\n",
    "preserving measures before outsourcing it. Homomorphic encryption enables one to compute on encrypted data\n",
    "directly, without decryption and can be used to mitigate the privacy concerns raised by using a cloud service.\n",
    "\n",
    "Methods: In this paper, we propose an algorithm (and its implementation) to train a logistic regression model on a\n",
    "homomorphically encrypted dataset. The core of our algorithm consists of a new iterative method that can be seen as\n",
    "a simplified form of the fixed Hessian method, but with a much lower multiplicative complexity.\n",
    "\n",
    "Results: We test the new method on two interesting real life applications: the first application is in medicine and\n",
    "constructs a model to predict the probability for a patient to have cancer, given genomic data as input; the second\n",
    "application is in finance and the model predicts the probability of a credit card transaction to be fraudulent. The\n",
    "method produces accurate results for both applications, comparable to running standard algorithms on plaintext data.\n",
    "\n",
    "Conclusions: This article introduces a new simple iterative algorithm to train a logistic regression model that is\n",
    "tailored to be applied on a homomorphically encrypted dataset. This algorithm can be used as a privacy-preserving\n",
    "technique to build a binary classification model and can be applied in a wide range of problems that can be modelled\n",
    "with logistic regression. Our implementation results show that our method can handle the large datasets used in\n",
    "logistic regression training."
   ]
  },
  {
   "cell_type": "markdown",
   "id": "059f2692",
   "metadata": {},
   "source": [
    "Background:\n",
    "Introduction:\n",
    "Logistic regression is a popular technique used in machine learning to solve binary classification problems. It starts\n",
    "with a training phase during which one computes a model for prediction based on previously gathered values for predictor variables (called covariates) and corresponding outcomes. The training phase is followed by a testing phase that assesses the accuracy of the model. To this end, the dataset is split into data for training and data for validation. This validation is done by evaluating the model in the given covariates and comparing the output with the known outcome. When the classification of the model equals the outcome for most of the test data, the model is considered to be valuable and it can be used to predict the probability of an outcome by simply evaluating the model for new measurements of the covariates. Logistic regression is popular because it provides a simple and powerful method to solve a wide range of problems. In medicine, logistic regression is used to predict the risk of developing a certain disease based on observed characteristics of the patient. In politics, it is used to predict the voting behaviour of a person based on personal data such as age, income, sex, state of residence, previous votes. In finance, logistic regression is used to predict the likelihood of a homeowner defaulting on a mortgage or a credit card transaction being fraudulent.\n",
    "\n",
    "As all machine learning tools, logistic regression needs sufficient training data to construct a useful model. As\n",
    "the above examples show, the values for the covariates and the corresponding outcomes are typically highly sensitive, which implies that the owners of this data (either people or companies) are reluctant to have their data\n",
    "included in the training set. In this paper, we solve this problem by describing a method for privacy preserving\n",
    "logistic regression training using somewhat homomorphic encryption. Homomorphic encryption enables computations on encrypted data without needing to decrypt the data first. As such, our method can be used to send encrypted data to a central server, which will then perform logistic regression training on this encrypted input data. This also allows to combine data from different data owners since the server will learn nothing about the underlying data.\n"
   ]
  }
 ],
 "metadata": {
  "kernelspec": {
   "display_name": "Python 3 (ipykernel)",
   "language": "python",
   "name": "python3"
  },
  "language_info": {
   "codemirror_mode": {
    "name": "ipython",
    "version": 3
   },
   "file_extension": ".py",
   "mimetype": "text/x-python",
   "name": "python",
   "nbconvert_exporter": "python",
   "pygments_lexer": "ipython3",
   "version": "3.9.7"
  }
 },
 "nbformat": 4,
 "nbformat_minor": 5
}
